{
  "nbformat": 4,
  "nbformat_minor": 0,
  "metadata": {
    "colab": {
      "provenance": [],
      "include_colab_link": true
    },
    "kernelspec": {
      "name": "python3",
      "display_name": "Python 3"
    },
    "language_info": {
      "name": "python"
    }
  },
  "cells": [
    {
      "cell_type": "markdown",
      "metadata": {
        "id": "view-in-github",
        "colab_type": "text"
      },
      "source": [
        "<a href=\"https://colab.research.google.com/github/bruizdecasas/ejerciciosPython/blob/main/Copia_de_2_2_Python_Funciones_y_Bucles_entregable.ipynb\" target=\"_parent\"><img src=\"https://colab.research.google.com/assets/colab-badge.svg\" alt=\"Open In Colab\"/></a>"
      ]
    },
    {
      "cell_type": "markdown",
      "source": [
        "### 1 - Crea una función que nos genere una lista de números empezando desde 0 hasta el número que le indiquemos *incluído* (parámetro). En caso de que no lo especifiquemos, la lista será de los 30 primeros números. Esta función nos preguntará si queremos que nos facilite la lista completa , sólamente de los números pares o sólo de los impares."
      ],
      "metadata": {
        "id": "g3cIcauA1mpH"
      }
    },
    {
      "cell_type": "code",
      "source": [
        "def lista_numeros (num1 = 30):\n",
        "  '''\n",
        "  la función lista_numeros puede tomar un número al ser llamada o tomará el 30 por defecto. A continuación solicitará mediante un input al usuario\n",
        "  que tipo de lista quiere. Este valor lo guardo en la variable q_numeros. A continuación se crea una lista vacía donde se irán guardando los números\n",
        "  y que será lo que devolverá la función. A continuación, mediante un bucle for, recorreremos los números en el rango indicado (o hasta el 30 por defecto)\n",
        "  Dentro de este bucle, valoraremos mediante if/elif/else el tipo de lista solicitado (y almacenado en la variable q_numeros) para generar la lista solicitada\n",
        "  '''\n",
        "  q_numeros = input(\"si quieres solo los números pares, escribe pares. Si quieres los impares, escribe impares. Cualquer otro input te devolverá la lista completa\")\n",
        "  lista_numeros = []\n",
        "  for i in range(1, num1+1):\n",
        "    if q_numeros.lower() == \"pares\":\n",
        "      if i%2 == 0:\n",
        "        lista_numeros.append(i)\n",
        "    elif q_numeros.lower() == \"impares\":\n",
        "      if i%2 != 0:\n",
        "        lista_numeros.append(i)\n",
        "    else:\n",
        "      lista_numeros.append(i)\n",
        "  return lista_numeros\n",
        "\n",
        "lista_numeros(25)"
      ],
      "metadata": {
        "colab": {
          "base_uri": "https://localhost:8080/"
        },
        "id": "gY2Q5RT1ax0T",
        "outputId": "b888bdc1-bdfe-48b0-9e6b-c099f083b3d4"
      },
      "execution_count": null,
      "outputs": [
        {
          "name": "stdout",
          "output_type": "stream",
          "text": [
            "si quieres solo los números pares, escribe pares. Si quieres los impares, escribe impares. Cualquer otro input te devolverá la lista completapares\n"
          ]
        },
        {
          "output_type": "execute_result",
          "data": {
            "text/plain": [
              "[2, 4, 6, 8, 10, 12, 14, 16, 18, 20, 22, 24]"
            ]
          },
          "metadata": {},
          "execution_count": 3
        }
      ]
    },
    {
      "cell_type": "markdown",
      "source": [
        "### 2 - Escribe una función que convierta una temperatura dada en grados Celsius a grados Fahrenheit."
      ],
      "metadata": {
        "id": "oCdOTpTBDp6k"
      }
    },
    {
      "cell_type": "code",
      "source": [
        "def conversion_temperaturas():\n",
        "    '''\n",
        "    Convierte los grados Celsius a Fahrenheit utilizando la fórmula: Fahrenheit = (Celsius × 9/5) + 32.\n",
        "    La función solicita los grados al usuario mediante un input y realiza las operaciones matemáticas.\n",
        "    '''\n",
        "    while True:\n",
        "        grados_celsius = input(\"Introduce la temperatura en grados Celsius: \")\n",
        "\n",
        "        if grados_celsius.replace(\".\", \"\", 1).isdigit():\n",
        "            grados_celsius = float(grados_celsius)\n",
        "            break\n",
        "        else:\n",
        "            print(\"Por favor, introduce una temperatura válida.\")\n",
        "\n",
        "    grados_fahrenheit = (grados_celsius * 9/5) + 32\n",
        "    return grados_fahrenheit\n",
        "\n",
        "conversion_temperaturas()\n",
        "\n",
        "\n"
      ],
      "metadata": {
        "colab": {
          "base_uri": "https://localhost:8080/"
        },
        "id": "8_VEZwdoeI6V",
        "outputId": "a005e882-b93d-41c7-f0bc-bfffbe0dc725"
      },
      "execution_count": null,
      "outputs": [
        {
          "name": "stdout",
          "output_type": "stream",
          "text": [
            "Introduce la temperatura en grados Celsius: 36\n"
          ]
        },
        {
          "output_type": "execute_result",
          "data": {
            "text/plain": [
              "96.8"
            ]
          },
          "metadata": {},
          "execution_count": 9
        }
      ]
    },
    {
      "cell_type": "markdown",
      "source": [
        "### 3 - Calculadora de áreas: Escribe una función que reciba el nombre de una figura geométrica (de momento solo: \"cuadrado\", \"rectángulo\" ó \"triángulo\") y pida al usuario los parámetros necesarios para calcular su área. La función debe devolver el área correspondiente."
      ],
      "metadata": {
        "id": "5T9ayxLuD3dS"
      }
    },
    {
      "cell_type": "code",
      "source": [
        "def calculadora_areas():\n",
        "'''\n",
        "esta función permite calcular el área de una figura(cuadrado, rectángulo o triángulo). Primero defino 3 funciones que calcularán las áreas solicitando\n",
        "al usuario la información necesaria. A continuación se describe un bucle while que valorará cual de las funciones de cálculo de áreas se va a llamar.\n",
        "'''\n",
        "#las funciones que calculan las áreas podrían haber sido definidas fuera de la función calculadora para favorecer la reusabilidad del código.\n",
        "#al ser definidas fuera de la función tendrían carácter global y pueden ser empleadas por otras funciones\n",
        "      def area_cuadrado():\n",
        "        num1 = float(input(\"introduce el lado del cuadrado\"))\n",
        "        area = num1**2\n",
        "        return area\n",
        "      def area_rectangulo():\n",
        "        num1 = float(input(\"introduce el primer lado del rectángulo\"))\n",
        "        num2 = float(input(\"introduce el segundo lado del rectángulo\"))\n",
        "        area = num1*num2\n",
        "        return area\n",
        "      def area_triangulo():\n",
        "        num1 = float(input(\"introduce la base del triángulo\"))\n",
        "        num2 = float(input(\"introduce la altura del triángulo\"))\n",
        "        area = num1*num2/2\n",
        "        return area\n",
        "\n",
        "      while True:\n",
        "        figura = input(\"¿qué figura quires calcular?(de momento solo: cuadrado, rectángulo o triángulo)\")\n",
        "\n",
        "        if figura.lower() == \"cuadrado\":\n",
        "            return area_cuadrado()\n",
        "        elif figura.lower() == \"rectángulo\" or figura.lower() == \"rectangulo\":\n",
        "            return area_rectangulo()\n",
        "        elif figura.lower() == \"triángulo\" or figura.lower() == \"triangulo\":\n",
        "            return area_triangulo()\n",
        "        else:\n",
        "            print(\"No me seas troll\")\n",
        "\n",
        "calculadora_areas()"
      ],
      "metadata": {
        "colab": {
          "base_uri": "https://localhost:8080/"
        },
        "id": "IOUp1MBdix5Q",
        "outputId": "c225a147-b675-46c8-e8b4-b9bcf1da6909"
      },
      "execution_count": null,
      "outputs": [
        {
          "name": "stdout",
          "output_type": "stream",
          "text": [
            "¿qué figura quires calcular?(de momento solo: cuadrado, rectángulo o triángulo)hola\n",
            "No me seas troll\n",
            "¿qué figura quires calcular?(de momento solo: cuadrado, rectángulo o triángulo)rectangulo\n",
            "introduce el primer lado del rectángulo5\n",
            "introduce el segundo lado del rectángulo10\n"
          ]
        },
        {
          "output_type": "execute_result",
          "data": {
            "text/plain": [
              "50.0"
            ]
          },
          "metadata": {},
          "execution_count": 12
        }
      ]
    },
    {
      "cell_type": "markdown",
      "source": [
        "### 4 - Escribe un programa que solicite al usuario ingresar un número entero y calcule la suma de todos los dígitos pares que componen ese número."
      ],
      "metadata": {
        "id": "xwC2GnCCEHt_"
      }
    },
    {
      "cell_type": "code",
      "source": [
        "def suma_digitos():\n",
        "'''\n",
        "la funcion pedirá un número al usuario y lo mantendrá como string para poder iterar por los dígitos.\n",
        "Cada dígito lo paso a int para verificar si es par o no, sumándolo en el caso en el que sea par\n",
        "'''\n",
        "    num1 = input(\"Introduce un número\")\n",
        "    suma = 0\n",
        "\n",
        "    for d in num1:\n",
        "        digito = int(d)\n",
        "        if digito % 2 == 0:\n",
        "            suma += digito\n",
        "\n",
        "    return suma\n",
        "\n",
        "suma_digitos()"
      ],
      "metadata": {
        "colab": {
          "base_uri": "https://localhost:8080/"
        },
        "id": "Fzxb6LoYnFf6",
        "outputId": "ef83c84d-ed68-4448-980e-72572f6b5cdf"
      },
      "execution_count": null,
      "outputs": [
        {
          "name": "stdout",
          "output_type": "stream",
          "text": [
            "Introduce un número22\n"
          ]
        },
        {
          "output_type": "execute_result",
          "data": {
            "text/plain": [
              "4"
            ]
          },
          "metadata": {},
          "execution_count": 15
        }
      ]
    },
    {
      "cell_type": "markdown",
      "source": [
        "### 5 - Escribe un programa que imprima los primeros 10 números triangulares. Un número triangular se obtiene al sumar todos los números naturales desde 1 hasta ese número."
      ],
      "metadata": {
        "id": "FJyedOSXE1kQ"
      }
    },
    {
      "cell_type": "markdown",
      "source": [
        "Los números triangulares se pueden calcular con una fórmula. Una pequeña búsqueda os va a dar prácticamente la respuesta..."
      ],
      "metadata": {
        "id": "rYEXtZb-IMDb"
      }
    },
    {
      "cell_type": "code",
      "source": [
        "def numero_triangular():\n",
        "  '''\n",
        "la función empieza con un primer bucle for en el que iterará por los valores del 1 al 10. En cada uno de estos valores,\n",
        "entramos en un segundo bucle for anidado que calculará el número triangular. A continuación se guardará el número triangular\n",
        "calculado en una lista, inicializada previamente, que será lo que devuelva la función\n",
        "'''\n",
        "  lista_numeros_triangulares = []\n",
        "  for i in range(1, 11):\n",
        "    num1=0\n",
        "    for j in range (1, i+1):\n",
        "      num1 += j\n",
        "    lista_numeros_triangulares.append(num1)\n",
        "  return lista_numeros_triangulares\n",
        "\n",
        "numero_triangular()"
      ],
      "metadata": {
        "colab": {
          "base_uri": "https://localhost:8080/"
        },
        "id": "F1FAug85oXYy",
        "outputId": "d81b8f67-54b9-4777-d107-d42d1533798b"
      },
      "execution_count": null,
      "outputs": [
        {
          "output_type": "execute_result",
          "data": {
            "text/plain": [
              "[1, 3, 6, 10, 15, 21, 28, 36, 45, 55]"
            ]
          },
          "metadata": {},
          "execution_count": 20
        }
      ]
    },
    {
      "cell_type": "markdown",
      "source": [
        "### 6 - Escriba un programa que pida dos años y escriba cuántos años bisiestos hay entre esas dos fechas (incluidos los dos años). **Se recuerda que los años bisiestos son múltiplos de 4, pero los múltiplos de 100 no lo son, aunque los múltiplos de 400 sí. Estos son algunos ejemplos de posibles respuestas: 2012 es bisiesto, 2010 no es bisiesto, 2000 es bisiesto, 1900 no es bisiesto.**"
      ],
      "metadata": {
        "id": "cBsezPWFE-eX"
      }
    },
    {
      "cell_type": "code",
      "source": [
        "def bisiesto():\n",
        "  num1 = int(input(\"dame un año\"))\n",
        "  num2 = int(input(\"dame otro año\"))\n",
        "  bisiestos = []\n",
        "\n",
        "  if num1 > num2:\n",
        "    num1, num2 = num2, num1\n",
        "  elif num1 == num2:\n",
        "    print(\"los números son iguales\")\n",
        "  for n in range (num1, num2+1):\n",
        "    if n%4 == 0 and (n%100 != 0 or n%400 == 0):\n",
        "      bisiestos.append(n)\n",
        "  return bisiestos\n",
        "\n",
        "bisiesto()"
      ],
      "metadata": {
        "colab": {
          "base_uri": "https://localhost:8080/"
        },
        "id": "YgtT5pLc3JHy",
        "outputId": "efd4ab36-291b-4ac9-eec6-871c463a4085"
      },
      "execution_count": null,
      "outputs": [
        {
          "name": "stdout",
          "output_type": "stream",
          "text": [
            "dame un año2001\n",
            "dame otro año2024\n"
          ]
        },
        {
          "output_type": "execute_result",
          "data": {
            "text/plain": [
              "[2004, 2008, 2012, 2016, 2020, 2024]"
            ]
          },
          "metadata": {},
          "execution_count": 37
        }
      ]
    },
    {
      "cell_type": "markdown",
      "source": [
        "### 7 -  Escribe un programa que pida al usuario una cadena de texto y cuente cuantas veces aparece cada letra en la cadena usando un bucle for.(dejá vu)"
      ],
      "metadata": {
        "id": "95J92u-iFfpL"
      }
    },
    {
      "cell_type": "code",
      "source": [
        "def contar_letras():\n",
        "  '''\n",
        "  primero creo un diccionario vacío donde vamos a guardar las letras como key y actualizaremos el valor según recorramos la cadena de texto.\n",
        "  además comprobamos de no incluir espacios en el caso de haberlos\n",
        "  '''\n",
        "  conteo_letras = {}\n",
        "  cadena_texto = input(\"escribe una cadena de texto\")\n",
        "  for c in cadena_texto:\n",
        "    if c != \" \":\n",
        "      conteo_letras[c] = conteo_letras.get(c, 0)+1\n",
        "\n",
        "  for letra, ocurrencia in conteo_letras.items():\n",
        "    print(f\"la letra {letra} aparece {ocurrencia}\")\n",
        "\n",
        "contar_letras()"
      ],
      "metadata": {
        "colab": {
          "base_uri": "https://localhost:8080/"
        },
        "id": "CMPLiKOfrOkP",
        "outputId": "05ab7c95-ff2d-4959-c099-132b72fa711a"
      },
      "execution_count": null,
      "outputs": [
        {
          "output_type": "stream",
          "name": "stdout",
          "text": [
            "escribe una cadena de textobliblibli\n",
            "la letra b aparece 3\n",
            "la letra l aparece 3\n",
            "la letra i aparece 3\n"
          ]
        }
      ]
    },
    {
      "cell_type": "markdown",
      "source": [
        "### 8 - Escribe un programa que pregunte al usuario por su edad y muestre todos los años que ha alcanzado (desde el 1 hasta su edad)."
      ],
      "metadata": {
        "id": "3Jox1CLqFtwG"
      }
    },
    {
      "cell_type": "markdown",
      "source": [
        "aporto dos posibles soluciones:\n",
        "- en la primera, la función no devuelve nada, pero muestra por consola cada uno de los años que ha cumplido el usuario.\n",
        "- en la segunda la función devolverá una lista con todo este contenido"
      ],
      "metadata": {
        "id": "-sGY8yLbsgfA"
      }
    },
    {
      "cell_type": "code",
      "source": [
        "def edad():\n",
        "  annos = int(input(\"¿cuál es tu edad?\"))\n",
        "\n",
        "  for i in range(1, annos+1):\n",
        "    print(f\"en algún momento cumpliste {i} años\")\n",
        "\n",
        "edad()"
      ],
      "metadata": {
        "id": "6XhPi1ypsJq4"
      },
      "execution_count": null,
      "outputs": []
    },
    {
      "cell_type": "code",
      "source": [
        "def edad():\n",
        "  annos = int(input(\"¿cuál es tu edad?\"))\n",
        "  lista_annos = []\n",
        "\n",
        "  for i in range(1, annos+1):\n",
        "    lista_annos.append(f\"en algún momento cumpliste {i} años\")\n",
        "\n",
        "  return lista_annos\n",
        "\n",
        "edad()"
      ],
      "metadata": {
        "colab": {
          "base_uri": "https://localhost:8080/"
        },
        "id": "lseN8x0rsx_J",
        "outputId": "712c471f-6ecb-4471-dd7a-7deb4b0f1b4b"
      },
      "execution_count": null,
      "outputs": [
        {
          "name": "stdout",
          "output_type": "stream",
          "text": [
            "¿cuál es tu edad?15\n"
          ]
        },
        {
          "output_type": "execute_result",
          "data": {
            "text/plain": [
              "['en algún momento cumpliste 1 años',\n",
              " 'en algún momento cumpliste 2 años',\n",
              " 'en algún momento cumpliste 3 años',\n",
              " 'en algún momento cumpliste 4 años',\n",
              " 'en algún momento cumpliste 5 años',\n",
              " 'en algún momento cumpliste 6 años',\n",
              " 'en algún momento cumpliste 7 años',\n",
              " 'en algún momento cumpliste 8 años',\n",
              " 'en algún momento cumpliste 9 años',\n",
              " 'en algún momento cumpliste 10 años',\n",
              " 'en algún momento cumpliste 11 años',\n",
              " 'en algún momento cumpliste 12 años',\n",
              " 'en algún momento cumpliste 13 años',\n",
              " 'en algún momento cumpliste 14 años',\n",
              " 'en algún momento cumpliste 15 años']"
            ]
          },
          "metadata": {},
          "execution_count": 22
        }
      ]
    },
    {
      "cell_type": "markdown",
      "source": [
        "### 9 - Crea un programa que pida al usuario dos números y haga su división. Haz control de excepciones para que avise al usuario si el denominador es cero."
      ],
      "metadata": {
        "id": "YIh1wAWretMv"
      }
    },
    {
      "cell_type": "markdown",
      "source": [
        "Necesitas usar try/except... una pequeña búsqueda..."
      ],
      "metadata": {
        "id": "sfKG3dc9NLq7"
      }
    },
    {
      "cell_type": "code",
      "source": [
        "def division():\n",
        "  '''\n",
        "  la función intentará realizar el código contenido dentro del bloque try, he manejado dos errores posibles:\n",
        "  - zerodivisionerror: para el caso en el que divisor introducido sea 0\n",
        "  - valueerror: para el caso en el que alguno de los valores introducidos (o ambos) no sean números\n",
        "  en ambos casos la función mostrará un mensaje de error, pero no interrumpirá la ejecución\n",
        "  '''\n",
        "  num1 = int(input(\"dame el dividendo\"))\n",
        "  num2 = int(input(\"dame el divisor\"))\n",
        "\n",
        "  try:\n",
        "    cociente = num1 / num2\n",
        "    return cociente\n",
        "\n",
        "  except ZeroDivisionError:\n",
        "    print(\"no se puede dividir por cero\")\n",
        "  except ValueError:\n",
        "    print(\"no se pueden dividir cosas que no son números\")\n",
        "\n",
        "\n",
        "\n",
        "division()\n"
      ],
      "metadata": {
        "colab": {
          "base_uri": "https://localhost:8080/"
        },
        "id": "gIuIY0dmtXGE",
        "outputId": "a3651788-bc17-4850-c74c-be95231ddab9"
      },
      "execution_count": null,
      "outputs": [
        {
          "name": "stdout",
          "output_type": "stream",
          "text": [
            "dame el dividendo10\n",
            "dame el divisor5\n"
          ]
        },
        {
          "output_type": "execute_result",
          "data": {
            "text/plain": [
              "2.0"
            ]
          },
          "metadata": {},
          "execution_count": 26
        }
      ]
    },
    {
      "cell_type": "markdown",
      "source": [
        "### 10 - Juego del Ahorcado: Crea una función que implemente el juego del Ahorcado. La función debe recibir una palabra como argumento y permitir al usuario adivinar letras hasta completar la palabra o hasta que se agoten los intentos."
      ],
      "metadata": {
        "id": "fhAHalo_3IWX"
      }
    },
    {
      "cell_type": "markdown",
      "source": [
        "para el juego del ahorcado he empezado creando otra función (le he pedido al chat gpt que me cree una lista de palabras) y la función me coge una palabra al azar de esa lista.\n",
        "A continuación, en la función del ahoracado llamo a la función palabra_aleatoria para generar una palabra aleatoria."
      ],
      "metadata": {
        "id": "DfGPqoGJ17B2"
      }
    },
    {
      "cell_type": "code",
      "source": [
        "import random\n",
        "\n",
        "def palabra_aleatoria():\n",
        "    lista_palabras = [\"casa\", \"perro\", \"gato\", \"coche\", \"sol\", \"luna\", \"libro\", \"jardin\", \"ciudad\", \"montana\", \"rio\", \"playa\", \"mesa\", \"silla\", \"ordenador\", \"telefono\", \"papel\", \"ventana\", \"puerta\", \"camino\"]\n",
        "    return random.choice(lista_palabras)\n",
        "\n",
        "def juego_ahorcado():\n",
        "  '''\n",
        "  primero inicializamos todas la variables que vamos a necesitar durante la ejecución del juego.\n",
        "  - convertimos la palabra en una lista\n",
        "  - inicializamos los intentos, las letras adivinadas en un set para que no haya repetidas y una lista de las letras de la palabra que voy a mostrar\n",
        "  '''\n",
        "  palabra = palabra_aleatoria()\n",
        "  palabra_lista = list(palabra)\n",
        "  intentos = 0\n",
        "  letras_adivinadas = set()\n",
        "  letras_mostradas = []\n",
        "\n",
        "  #con este bucle for cambiaré en la palabra a adivinar las letras que aún están pendientes de adivinar por guiones bajos\n",
        "  for letra in palabra_lista:\n",
        "    if letra.isalpha():\n",
        "        letras_mostradas.append('_')\n",
        "    else:\n",
        "        letras_mostradas.append(letra)\n",
        "\n",
        "  print(\"«Quiero jugar a un juego…» \")\n",
        "\n",
        "  while intentos < 6:\n",
        "    #muestro la palabra tal y como va adivinada al momento\n",
        "        print(\"Palabra: \" + \" \".join(letras_mostradas))\n",
        "        letra_usuario = input(\"Adivina una letra: \").lower()\n",
        "\n",
        "        # comprobamos si la letra que nos indica el usuario ya ha sido mencionada anteriormente, en caso contrario se añade al set\n",
        "        if letra_usuario in letras_adivinadas:\n",
        "            print(f\"Ya adivinaste la letra '{letra_usuario}'. ¡Intenta con otra!\")\n",
        "            continue\n",
        "        letras_adivinadas.add(letra_usuario)\n",
        "\n",
        "        # Verifica si la letra está en la palabra, en caso afirmativo la añadirá para ser mostrada, en caso negativo, restará un intento\n",
        "        if letra_usuario in palabra_lista:\n",
        "            print(f\"¡Correcto! La letra '{letra_usuario}' está en la palabra.\")\n",
        "            for i, letra in enumerate(palabra_lista):\n",
        "                if letra == letra_usuario:\n",
        "                    letras_mostradas[i] = letra_usuario\n",
        "        else:\n",
        "            print(f\"Incorrecto. La letra '{letra_usuario}' no está en la palabra.\")\n",
        "            intentos += 1\n",
        "            print(f\"te quedan {5 - intentos} intentos\")\n",
        "\n",
        "        # si las letras mostradas son las de la palabra y termina el juego\n",
        "        if letras_mostradas == palabra_lista:\n",
        "            print(f\"¡Felicidades! Has adivinado la palabra: {palabra}\")\n",
        "            break\n",
        "\n",
        "    # Si se han agotado los intentos termina el juego\n",
        "  if intentos == 5:\n",
        "        print(f\"Lo siento, te has quedado sin intentos. La palabra era: '{palabra}'.\")\n",
        "\n",
        "juego_ahorcado()"
      ],
      "metadata": {
        "colab": {
          "base_uri": "https://localhost:8080/"
        },
        "id": "WZ2a9zhYvZaj",
        "outputId": "25a51756-8b16-4789-e615-175c62d0e8f2"
      },
      "execution_count": null,
      "outputs": [
        {
          "output_type": "stream",
          "name": "stdout",
          "text": [
            "«Quiero jugar a un juego…» \n",
            "Palabra: _ _ _ _ _ _ _ _ _\n",
            "Adivina una letra: a\n",
            "¡Correcto! La letra 'a' está en la palabra.\n",
            "Palabra: _ _ _ _ _ a _ _ _\n",
            "Adivina una letra: e\n",
            "¡Correcto! La letra 'e' está en la palabra.\n",
            "Palabra: _ _ _ e _ a _ _ _\n",
            "Adivina una letra: i\n",
            "Incorrecto. La letra 'i' no está en la palabra.\n",
            "te quedan 4 intentos\n",
            "Palabra: _ _ _ e _ a _ _ _\n",
            "Adivina una letra: o\n",
            "¡Correcto! La letra 'o' está en la palabra.\n",
            "Palabra: o _ _ e _ a _ o _\n",
            "Adivina una letra: r\n",
            "¡Correcto! La letra 'r' está en la palabra.\n",
            "Palabra: o r _ e _ a _ o r\n",
            "Adivina una letra: t\n",
            "Incorrecto. La letra 't' no está en la palabra.\n",
            "te quedan 3 intentos\n",
            "Palabra: o r _ e _ a _ o r\n",
            "Adivina una letra: p\n",
            "Incorrecto. La letra 'p' no está en la palabra.\n",
            "te quedan 2 intentos\n",
            "Palabra: o r _ e _ a _ o r\n",
            "Adivina una letra: s\n",
            "Incorrecto. La letra 's' no está en la palabra.\n",
            "te quedan 1 intentos\n",
            "Palabra: o r _ e _ a _ o r\n",
            "Adivina una letra: d\n",
            "¡Correcto! La letra 'd' está en la palabra.\n",
            "Palabra: o r d e _ a d o r\n",
            "Adivina una letra: n\n",
            "¡Correcto! La letra 'n' está en la palabra.\n",
            "¡Felicidades! Has adivinado la palabra: ordenador\n"
          ]
        }
      ]
    },
    {
      "cell_type": "markdown",
      "source": [
        "# BONUS: entrando en lo analítico"
      ],
      "metadata": {
        "id": "mtISm3wLeq5U"
      }
    },
    {
      "cell_type": "markdown",
      "source": [
        "### 1 - Tengo la variable a, quiero que me devuelvas la variable a \"plana\". Sin anidaciones, que pueda recorrer todos sus valores con un solo for."
      ],
      "metadata": {
        "id": "spRdCxuELvqL"
      }
    },
    {
      "cell_type": "code",
      "execution_count": null,
      "metadata": {
        "id": "y2x7axH2LnEo"
      },
      "outputs": [],
      "source": [
        "a = [[0.84062117, 0.48006452, 0.7876326, 0.77109654],\n",
        "     [0.44409793, 0.09014516, 0.81835917, 0.87645456],\n",
        "     [0.7066597, 0.09610873, 0.41247947, 0.57433389],\n",
        "     [0.29960807, 0.42315023, 0.34452557, 0.4751035],\n",
        "     [0.17003563, 0.46843998, 0.92796258, 0.69814654],\n",
        "     [0.41290051, 0.19561071, 0.16284783, 0.97016248],\n",
        "     [0.71725408, 0.87702738, 0.31244595, 0.76615487],\n",
        "     [0.20754036, 0.57871812, 0.07214068, 0.40356048],\n",
        "     [0.12149553, 0.53222417, 0.9976855, 0.12536346],\n",
        "     [0.80930099, 0.50962849, 0.94555126, 0.33364763]]\n",
        "#Necesito conseguir a_flat"
      ]
    },
    {
      "cell_type": "code",
      "source": [
        "a_flat = []\n",
        "for i in a:\n",
        "  for j in i:\n",
        "    a_flat.append(j)\n",
        "\n",
        "print(a_flat)"
      ],
      "metadata": {
        "colab": {
          "base_uri": "https://localhost:8080/"
        },
        "id": "J1cvhGT-5pEO",
        "outputId": "a8748b84-0a2b-41f8-995f-d42b4e4112a8"
      },
      "execution_count": null,
      "outputs": [
        {
          "output_type": "stream",
          "name": "stdout",
          "text": [
            "[0.84062117, 0.48006452, 0.7876326, 0.77109654, 0.44409793, 0.09014516, 0.81835917, 0.87645456, 0.7066597, 0.09610873, 0.41247947, 0.57433389, 0.29960807, 0.42315023, 0.34452557, 0.4751035, 0.17003563, 0.46843998, 0.92796258, 0.69814654, 0.41290051, 0.19561071, 0.16284783, 0.97016248, 0.71725408, 0.87702738, 0.31244595, 0.76615487, 0.20754036, 0.57871812, 0.07214068, 0.40356048, 0.12149553, 0.53222417, 0.9976855, 0.12536346, 0.80930099, 0.50962849, 0.94555126, 0.33364763]\n"
          ]
        }
      ]
    },
    {
      "cell_type": "markdown",
      "source": [
        "### 2 - Ahora quiero que modifiques tu lógica para que me cree una lista en la que se incluyan solo los valores mayores a 0.49"
      ],
      "metadata": {
        "id": "TnC_VGbLMJ7b"
      }
    },
    {
      "cell_type": "code",
      "source": [
        "a_flat2 = []\n",
        "for i in a:\n",
        "  for j in i:\n",
        "    if j > 0.49:\n",
        "      a_flat2.append(j)\n",
        "\n",
        "print(a_flat2)"
      ],
      "metadata": {
        "colab": {
          "base_uri": "https://localhost:8080/"
        },
        "id": "HqbIg0HJ59IM",
        "outputId": "6e1d5a5b-16a8-4f16-b677-0039d940e660"
      },
      "execution_count": null,
      "outputs": [
        {
          "output_type": "stream",
          "name": "stdout",
          "text": [
            "[0.84062117, 0.7876326, 0.77109654, 0.81835917, 0.87645456, 0.7066597, 0.57433389, 0.92796258, 0.69814654, 0.97016248, 0.71725408, 0.87702738, 0.76615487, 0.57871812, 0.53222417, 0.9976855, 0.80930099, 0.50962849, 0.94555126]\n"
          ]
        }
      ]
    },
    {
      "cell_type": "markdown",
      "source": [
        "### 3 - Necesito que en una sola pasada, generes 2 listas. Una con los valores que son mayores que la media de esa lista y otra con los valores que son inferiores a la media. Por cierto, cual es la media?"
      ],
      "metadata": {
        "id": "kGvumFJgNlHm"
      }
    },
    {
      "cell_type": "code",
      "source": [
        "a_mayores = []\n",
        "a_menores = []\n",
        "\n",
        "media = sum(a_flat)/len(a_flat)\n",
        "\n",
        "for j in a_flat:\n",
        "    if j > media:\n",
        "      a_mayores.append(j)\n",
        "    elif j < media:\n",
        "      a_menores.append(j)\n",
        "    else:\n",
        "      print(\"este debe ser igual a la media\")\n",
        "\n",
        "print(media)\n",
        "print(a_mayores)\n",
        "print(a_menores)"
      ],
      "metadata": {
        "colab": {
          "base_uri": "https://localhost:8080/"
        },
        "id": "wTgk_ZGy6QJy",
        "outputId": "a9f81b2f-e1d3-475c-d2b6-989d57dd323b"
      },
      "execution_count": null,
      "outputs": [
        {
          "output_type": "stream",
          "name": "stdout",
          "text": [
            "0.5189071504999999\n",
            "[0.84062117, 0.7876326, 0.77109654, 0.81835917, 0.87645456, 0.7066597, 0.57433389, 0.92796258, 0.69814654, 0.97016248, 0.71725408, 0.87702738, 0.76615487, 0.57871812, 0.53222417, 0.9976855, 0.80930099, 0.94555126]\n",
            "[0.48006452, 0.44409793, 0.09014516, 0.09610873, 0.41247947, 0.29960807, 0.42315023, 0.34452557, 0.4751035, 0.17003563, 0.46843998, 0.41290051, 0.19561071, 0.16284783, 0.31244595, 0.20754036, 0.07214068, 0.40356048, 0.12149553, 0.12536346, 0.50962849, 0.33364763]\n"
          ]
        }
      ]
    },
    {
      "cell_type": "markdown",
      "source": [
        "### 4 - Te han facilitado un listado de mediciones, pero te lo han dado en un formato incómodo para trabajar, ya que necesitas tenerlo en un solo nivel. Trata la variable que te dan para poder trabajar con ella toda en un nivel."
      ],
      "metadata": {
        "id": "d4zFB8JQOFvS"
      }
    },
    {
      "cell_type": "code",
      "source": [
        "#Estes son las mediciones que te pasan\n",
        "b = [[[0.55867166, 0.06210792, 0.08147297],\n",
        "      [0.82579068, 0.91512478, 0.06833034]],\n",
        "\n",
        "     [[0.05440634, 0.65857693, 0.30296619],\n",
        "      [0.06769833, 0.96031863, 0.51293743]],\n",
        "\n",
        "     [[0.09143215, 0.71893382, 0.45850679],\n",
        "      [0.58256464, 0.59005654, 0.56266457]],\n",
        "\n",
        "     [[0.71600294, 0.87392666, 0.11434044],\n",
        "      [0.8694668, 0.65669313, 0.10708681]],\n",
        "\n",
        "     [[0.07529684, 0.46470767, 0.47984544],\n",
        "      [0.65368638, 0.14901286, 0.23760688]]]"
      ],
      "metadata": {
        "id": "l3dUU8b1Nbk9"
      },
      "execution_count": null,
      "outputs": []
    },
    {
      "cell_type": "code",
      "source": [
        "b_flat = []\n",
        "\n",
        "for i in b:\n",
        "  for j in i:\n",
        "    for k in j:\n",
        "      b_flat.append(k)\n",
        "\n",
        "print(b_flat)"
      ],
      "metadata": {
        "id": "0aI8Bd6uEdNZ",
        "outputId": "a22f41eb-2cfd-4bf1-8435-dbcee2c411d1",
        "colab": {
          "base_uri": "https://localhost:8080/"
        }
      },
      "execution_count": null,
      "outputs": [
        {
          "output_type": "stream",
          "name": "stdout",
          "text": [
            "[0.55867166, 0.06210792, 0.08147297, 0.82579068, 0.91512478, 0.06833034, 0.05440634, 0.65857693, 0.30296619, 0.06769833, 0.96031863, 0.51293743, 0.09143215, 0.71893382, 0.45850679, 0.58256464, 0.59005654, 0.56266457, 0.71600294, 0.87392666, 0.11434044, 0.8694668, 0.65669313, 0.10708681, 0.07529684, 0.46470767, 0.47984544, 0.65368638, 0.14901286, 0.23760688]\n"
          ]
        }
      ]
    },
    {
      "cell_type": "markdown",
      "source": [
        "### 5 - Resulta que tienes que modificar tu bucle, porque de las listas de 3 elementos que tienes, el valor que realmente nos interesa para el análisis es solamente el último de cada una de ellas. Tienes que aplanarlo, pero solo para los últimos valores."
      ],
      "metadata": {
        "id": "0hc1tHFVOcZK"
      }
    },
    {
      "cell_type": "code",
      "source": [
        "b_tercero = []\n",
        "\n",
        "for i in b:\n",
        "  for j in i:\n",
        "    b_tercero.append(j[2])\n",
        "\n",
        "print(b_tercero)"
      ],
      "metadata": {
        "id": "qZZugPCJFKPD",
        "outputId": "92a88be4-97c0-43d0-d252-4ab887f4801b",
        "colab": {
          "base_uri": "https://localhost:8080/"
        }
      },
      "execution_count": null,
      "outputs": [
        {
          "output_type": "stream",
          "name": "stdout",
          "text": [
            "[0.08147297, 0.06833034, 0.30296619, 0.51293743, 0.45850679, 0.56266457, 0.11434044, 0.10708681, 0.47984544, 0.23760688]\n"
          ]
        }
      ]
    },
    {
      "cell_type": "markdown",
      "source": [
        "### 6 - Tienes un listado de tuplas con el apellido y el nombre de los clientes, pero necesitas obtener una lista plana en la que cada elemento sea Nombre y Apellido de los clientes. Ej: ('Fernandez','Pedro') --> 'Pedro Fernandez'"
      ],
      "metadata": {
        "id": "r6c8aq0vO3_l"
      }
    },
    {
      "cell_type": "code",
      "source": [
        "#Listado de tuplas\n",
        "name_tuples = [('Fernandez','Pedro'),('Perez','Jose'),('Gafotas','Manolito'),('Carreras','Jose'),('Cigala','Diego')]"
      ],
      "metadata": {
        "id": "m34PN1MxO3G2"
      },
      "execution_count": null,
      "outputs": []
    },
    {
      "cell_type": "code",
      "source": [
        "lista_nombres = []\n",
        "\n",
        "for i in name_tuples:\n",
        "  nombre = i[1] + \" \" + i[0]\n",
        "  lista_nombres.append(nombre)\n",
        "\n",
        "print(lista_nombres)\n",
        "\n"
      ],
      "metadata": {
        "id": "ttV0uzO9WxwG",
        "outputId": "be9400fd-553b-440d-e362-5ddd368d1e49",
        "colab": {
          "base_uri": "https://localhost:8080/"
        }
      },
      "execution_count": null,
      "outputs": [
        {
          "output_type": "stream",
          "name": "stdout",
          "text": [
            "['Pedro Fernandez', 'Jose Perez', 'Manolito Gafotas', 'Jose Carreras', 'Diego Cigala']\n"
          ]
        }
      ]
    },
    {
      "cell_type": "markdown",
      "source": [
        "#### **BONUS** - Enhorabuena por resolver el problema anterior. Pero resulta que ahora tu jefe quiere que le generes esta lista de clientes de nuevo. El problema es que las tuplas, ya no son todas iguales... las hay de 2 y 3 elementos. Al menos lo tenemos fácil porque sabemos que si son 3 elementos el primer elemento es Apellido y los otros 2 son Nombre y Segundo Nombre. Queremos el mismo formato que en anterior"
      ],
      "metadata": {
        "id": "mmHBA7XVVOTM"
      }
    },
    {
      "cell_type": "code",
      "source": [
        "#Listado nuevo\n",
        "new_tuples = [('Fernandez','Pedro','Jose'),('Perez','Jose','Manuel'),('Gafotas','Manolito'),('Carreras','Jose','Luis'),('Cigala','Diego')]"
      ],
      "metadata": {
        "id": "HZjUsfENUkvM"
      },
      "execution_count": null,
      "outputs": []
    },
    {
      "cell_type": "code",
      "source": [
        "lista_nombres2 = []\n",
        "\n",
        "for i in new_tuples:\n",
        "  if len(i) == 3:\n",
        "    nom1 = i[1] + \" \" + i[0]\n",
        "    nom2 = i[2] + \" \" + i[0]\n",
        "    lista_nombres2.append(nom1)\n",
        "    lista_nombres2.append(nom2)\n",
        "  else:\n",
        "    nom = i[1] + \" \" + i[0]\n",
        "    lista_nombres2.append(nom)\n",
        "\n",
        "print(lista_nombres2)"
      ],
      "metadata": {
        "id": "2AaN1xkqXoDg",
        "outputId": "a0871297-347b-428a-88cb-93bee9947aa5",
        "colab": {
          "base_uri": "https://localhost:8080/"
        }
      },
      "execution_count": null,
      "outputs": [
        {
          "output_type": "stream",
          "name": "stdout",
          "text": [
            "['Pedro Fernandez', 'Jose Fernandez', 'Jose Perez', 'Manuel Perez', 'Manolito Gafotas', 'Jose Carreras', 'Luis Carreras', 'Diego Cigala']\n"
          ]
        }
      ]
    },
    {
      "cell_type": "markdown",
      "metadata": {
        "id": "7e5cdd8e"
      },
      "source": [
        "### 7. Validar contraseña: Escribe una función que reciba una contraseña como parámetro y verifique si cumple con los siguientes criterios: al menos 8 caracteres de longitud, contiene al menos una letra mayúscula, una letra minúscula y un número. La función debe devolver True si la contraseña es válida y False en caso contrario."
      ]
    },
    {
      "cell_type": "code",
      "source": [
        "def validar (con):\n",
        "  veri = True\n",
        "  if len(con) < 8:\n",
        "    veri = False\n",
        "  if not any(letra.isupper() for letra in con):\n",
        "    veri = False\n",
        "  if not any(letra.islower() for letra in con):\n",
        "    veri = False\n",
        "  if not any(num.isdigit() for num in con):\n",
        "    veri = False\n",
        "  return veri\n",
        "\n",
        "validar(\"hOLA1234\")"
      ],
      "metadata": {
        "id": "09NwhPX6Y-vA",
        "outputId": "674cffcf-93ac-45bb-b91a-f477007161e2",
        "colab": {
          "base_uri": "https://localhost:8080/"
        }
      },
      "execution_count": null,
      "outputs": [
        {
          "output_type": "execute_result",
          "data": {
            "text/plain": [
              "True"
            ]
          },
          "metadata": {},
          "execution_count": 22
        }
      ]
    },
    {
      "cell_type": "code",
      "execution_count": null,
      "metadata": {
        "id": "79dcf775"
      },
      "outputs": [],
      "source": [
        "def validar_contraseña(contraseña):\n",
        "\n",
        "    #longitud como mínimo 8, len()\n",
        "    cumple_longitud = len(contraseña) >= 8\n",
        "\n",
        "    #iterable para comprobar si cumple o no any()\n",
        "    #any() elemento en la contraseña es mayúscula\n",
        "    cumple_mayuscula = any(letra.isupper() for letra in contraseña)\n",
        "\n",
        "    #any() elemento en la contraseña es minuscula\n",
        "    cumple_minuscula = any(letra.islower() for letra in contraseña)\n",
        "\n",
        "    #any() elemento en la contraseña es un número\n",
        "    cumple_numero = any(num.isdigit() for num in contraseña)\n",
        "\n",
        "    #prints para que salga por pantalla cada parámetro especificado\n",
        "    print(f'¿La longitud es correcta? {cumple_longitud}.')\n",
        "    print(f'¿Contiene al menos una mayúscula? {cumple_mayuscula}.')\n",
        "    print(f'¿Contiene al menos una minúscula? {cumple_minuscula}.')\n",
        "    print(f'¿Contiene al menos un número? {cumple_numero}.')\n",
        "\n",
        "    #return para que me devuelva un True/False con typo\n",
        "    return(cumple_longitud and cumple_mayuscula and cumple_minuscula and cumple_numero)"
      ]
    }
  ]
}